{
  "nbformat": 4,
  "nbformat_minor": 0,
  "metadata": {
    "colab": {
      "name": "RPiNumRec.ipynb",
      "provenance": []
    },
    "kernelspec": {
      "name": "python3",
      "display_name": "Python 3"
    },
    "language_info": {
      "name": "python"
    }
  },
  "cells": [
    {
      "cell_type": "code",
      "metadata": {
        "colab": {
          "base_uri": "https://localhost:8080/"
        },
        "id": "C59ALs4nscXn",
        "outputId": "d89b3982-6492-4339-f71e-c3041502484e"
      },
      "source": [
        "from google.colab import drive #details: https://youtu.be/InZ16tcM9Pc, https://youtu.be/58t0PFIWR9Y\n",
        "drive.mount('/content/drive')"
      ],
      "execution_count": 2,
      "outputs": [
        {
          "output_type": "stream",
          "text": [
            "Drive already mounted at /content/drive; to attempt to forcibly remount, call drive.mount(\"/content/drive\", force_remount=True).\n"
          ],
          "name": "stdout"
        }
      ]
    },
    {
      "cell_type": "code",
      "metadata": {
        "id": "e4vFd7FRYQcm"
      },
      "source": [
        "\n",
        "import numpy as np \n",
        "import cv2\n",
        "import tensorflow as tf\n",
        "import matplotlib.pyplot as plt\n",
        "import matplotlib.image as mpimg\n",
        "import os\n",
        "import pandas as pd\n",
        "#import RPi.GPIO as GPIO\n",
        "#GPIO.setmode(GPIO.BCM)\n",
        "\n",
        "#model = tf.keras.models.load_model(\"NumberRecognitionModel.model\")"
      ],
      "execution_count": 5,
      "outputs": []
    },
    {
      "cell_type": "code",
      "metadata": {
        "id": "XuSMUQ9tsvjv"
      },
      "source": [
        "gitData = r'/content/drive/MyDrive/DrivingData'\n",
        "columns = ['zeros']\n",
        "drivingData = pd.read_csv(os.path.join(gitData, 'Zero.jpg'), names=columns)\n",
        "drivingData.head()"
      ],
      "execution_count": null,
      "outputs": []
    },
    {
      "cell_type": "code",
      "metadata": {
        "id": "dbNQ8uBnexO6"
      },
      "source": [
        "#preprocessing\n",
        "def preprocessing(img):\n",
        "  arrayed = np.asarray(img)\n",
        "  resized = np.resize(arrayed, (28,28))\n",
        "  grayed = cv2.cvtColor(resized, cv2.COLOR_BGR2GRAY)\n",
        "  flipped = cv2.bitwise_not(grayed) #to make the img like the training data, blk bg and white fore\n",
        "  normalized = flipped/255 \n",
        "  reshaped = normalized.reshape(1, 28, 28, 1)\n",
        "  return reshaped"
      ],
      "execution_count": 8,
      "outputs": []
    },
    {
      "cell_type": "code",
      "metadata": {
        "id": "7QrMfg1PZzjU"
      },
      "source": [
        "#accessing the camera\n",
        "cap = cv2.VideoCapture(0)\n",
        "while (cap.isOpened()):\n",
        "  _, frame = cap.read()\n",
        "\n",
        "  preprocessed = preprocessing(frame)\n",
        "\n",
        "  prediction = model.predict_classes(preprocessed)\n",
        "  print(\"AayYo the number I see is: \", str(prediction))\n",
        "\n",
        "  if cv2.waitKey(1) & 0xFF == ord('q'):\n",
        "        break\n",
        "cap.release()\n",
        "cv2.destroyAllWindows()\n"
      ],
      "execution_count": 9,
      "outputs": []
    }
  ]
}